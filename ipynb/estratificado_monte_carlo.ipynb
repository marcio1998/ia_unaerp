{
  "nbformat": 4,
  "nbformat_minor": 0,
  "metadata": {
    "colab": {
      "name": " estratificado_monte_carlo.ipynb",
      "provenance": [],
      "collapsed_sections": []
    },
    "kernelspec": {
      "name": "python3",
      "display_name": "Python 3"
    },
    "language_info": {
      "name": "python"
    }
  },
  "cells": [
    {
      "cell_type": "code",
      "metadata": {
        "id": "6j27NQsoZVby"
      },
      "source": [
        "import numpy as np\n",
        "import pandas as pd\n",
        "df = pd.DataFrame()\n",
        "df_1 = pd.DataFrame()\n",
        "df_2 = pd.DataFrame()\n",
        "np.random.seed(123456)\n",
        "KT = 1.0"
      ],
      "execution_count": null,
      "outputs": []
    },
    {
      "cell_type": "code",
      "metadata": {
        "id": "xvTAS234Zfw9"
      },
      "source": [
        "E1 = [0,0,1,1]\n",
        "E2 = [0,1,0,1]\n",
        "saida = [0.0,1.0,1.0,0.0]\n",
        "tx = 0.0001\n",
        "erro_inicial = 0.0\n",
        "B = 10"
      ],
      "execution_count": null,
      "outputs": []
    },
    {
      "cell_type": "code",
      "metadata": {
        "id": "6qCKCHeraqVK"
      },
      "source": [
        "def manipular_peso_trash_hold(matriz):\n",
        "  if matriz.shape[0] == 2:\n",
        "    for i in range(matriz.shape[0]):\n",
        "      for j in range(matriz.shape[1]):\n",
        "        matriz[i][j] =  (matriz[i][j]*40) -20 \n",
        "  else:\n",
        "    for i in range(matriz.shape[0]):\n",
        "      matriz[i] = (matriz[i]*40)-20"
      ],
      "execution_count": null,
      "outputs": []
    },
    {
      "cell_type": "code",
      "metadata": {
        "id": "AvjQeBo2arFX"
      },
      "source": [
        "def passo(matriz):\n",
        "  matriz_1 =  np.random.rand(2,3)\n",
        "  matriz_2 = np.random.rand(3)\n",
        "  peso = np.random.rand(1)\n",
        "  #print(matriz)\n",
        "  if matriz.shape[0] == 2:\n",
        "    matriz_retorno = np.zeros((2,3))\n",
        "    for i in range(matriz.shape[0]):\n",
        "      for j in range(matriz.shape[1]):\n",
        "        matriz_retorno[i][j] = matriz[i][j] + ((matriz_1[i][j]*2)-1)\n",
        "    return matriz_retorno\n",
        "  else:\n",
        "    matriz_retorno = np.zeros((3))\n",
        "    for i in range(matriz.shape[0]):\n",
        "      matriz_retorno[i] = matriz[i] + ((matriz_2[i]*2)-1)\n",
        "    return matriz_retorno"
      ],
      "execution_count": null,
      "outputs": []
    },
    {
      "cell_type": "code",
      "metadata": {
        "id": "uyGQ-MNcB-jD"
      },
      "source": [
        "def atualizar_array(matriz_1, matriz_2):\n",
        "  if matriz_1.shape[0] == 2:\n",
        "    for i in range(matriz_1.shape[0]):\n",
        "      for j in range(matriz_1.shape[1]):\n",
        "        matriz_1[i][j] = matriz_2[i][j] \n",
        "  else:\n",
        "    for i in range(matriz_1.shape[0]):\n",
        "      matriz_1[i] = matriz_2[i]\n"
      ],
      "execution_count": null,
      "outputs": []
    },
    {
      "cell_type": "code",
      "metadata": {
        "colab": {
          "base_uri": "https://localhost:8080/"
        },
        "id": "XkXLxuyYa6KO",
        "outputId": "56c224d5-b1eb-4d19-8169-d9a618ee6d67"
      },
      "source": [
        "w1 = np.random.rand(2,3)\n",
        "w2 = np.random.rand(3)\n",
        "manipular_peso_trash_hold(w1)\n",
        "manipular_peso_trash_hold(w2)\n",
        "I = np.zeros((3,3))\n",
        "O = np.zeros((3,3))\n",
        "for i in range(len(E1)):\n",
        "  #I1 - copia dos dados de entrada.\n",
        "  I[0][0] = E1[i]\n",
        "  I[0][1] = E2[i]\n",
        "  I[0][2] = 1.0 # Constante.\n",
        "  #Copia para os Outputs\n",
        "  O[0][0] = I[0][0]\n",
        "  O[0][1] = I[0][1]\n",
        "  O[0][2] = I[0][2]\n",
        "  #Calculo Para as entradas da segunda camada.\n",
        "  I[1][0] = O[0][0]*w1[0][0] + O[0][1]*w1[0][1] + O[0][2]*w1[0][2]\n",
        "  I[1][1] = O[0][0]*w1[1][0] + O[0][1]*w1[1][1] + O[0][2]*w1[1][2]\n",
        "  I[1][2] = 1.0 # constante.\n",
        "  #Calculo do Exp para trash_hold.\n",
        "  O[1][0] = 1.0/(1.0+np.exp(-I[1][0]))\n",
        "  O[1][1] = 1.0/(1.0+np.exp(-I[1][1]))\n",
        "  O[1][2] = I[1][2]\n",
        "  #calculo da ultima entrada\n",
        "  I[2][0] = O[1][0]*w2[0] + O[1][1]*w2[1] + O[1][2]*w2[2]\n",
        "  #Calculo da ultima saida\n",
        "  O[2][0] = 1.0/(1.0+np.exp(-I[2][0]))\n",
        "  erro_inicial += float(pow((saida[i]-O[2][0]),2))\n",
        "erro_inicial *= 0.5\n",
        "peso_comparar_1 = []\n",
        "peso_comparar_2 = []\n",
        "peso_comparar_3 = []\n",
        "for i in range(w1.shape[1]):\n",
        "  peso_comparar_1.append(w1[0][i])\n",
        "  peso_comparar_2.append(w1[1][i])\n",
        "  peso_comparar_3.append(w2[i])\n",
        "print(erro_inicial)\n",
        "print(w1)\n",
        "print(w2)"
      ],
      "execution_count": null,
      "outputs": [
        {
          "output_type": "stream",
          "name": "stdout",
          "text": [
            "0.8434547709949677\n",
            "[[-14.92120668  18.66871354  -9.58095977]\n",
            " [ 15.88946097  -4.93001135  -6.55113023]]\n",
            "[ -1.94494118  13.61020333 -15.07591423]\n"
          ]
        }
      ]
    },
    {
      "cell_type": "code",
      "metadata": {
        "id": "Bg1K7Rsab17U"
      },
      "source": [
        "erro = 1.0\n",
        "n = 0.0\n",
        "while erro > tx:\n",
        "  diferenca_erro = 0.0\n",
        "  erro = 0.0\n",
        "  saidas = []\n",
        "  w1_copia = passo(w1)\n",
        "  w2_copia = passo(w2)\n",
        "  #print(w1_copia)\n",
        "  #print(w2_copia)\n",
        "  #print('----------------')\n",
        "  I = np.zeros((3,3))\n",
        "  O = np.zeros((3,3))\n",
        "  for i in range(len(E1)):\n",
        "    #I1 - copia dos dados de entrada.\n",
        "    I[0][0] = E1[i]\n",
        "    I[0][1] = E2[i]\n",
        "    I[0][2] = 1.0 # Constante.\n",
        "    #Copia para os Outputs\n",
        "    O[0][0] = I[0][0]\n",
        "    O[0][1] = I[0][1]\n",
        "    O[0][2] = I[0][2]\n",
        "    #Calculo Para as entradas da segunda camada.\n",
        "    I[1][0] = O[0][0]*w1_copia[0][0] + O[0][1]*w1_copia[0][1] + O[0][2]*w1_copia[0][2]\n",
        "    I[1][1] = O[0][0]*w1_copia[1][0] + O[0][1]*w1_copia[1][1] + O[0][2]*w1_copia[1][2]\n",
        "    I[1][2] = 1.0 # constante.\n",
        "    #Calculo do Exp para trash_hold.\n",
        "    O[1][0] = 1.0/(1.0+np.exp(-I[1][0]))\n",
        "    O[1][1] = 1.0/(1.0+np.exp(-I[1][1]))\n",
        "    O[1][2] = I[1][2]\n",
        "    #calculo da ultima entrada\n",
        "    I[2][0] = O[1][0]*w2_copia[0] + O[1][1]*w2_copia[1] + O[1][2]*w2_copia[2]\n",
        "    #Calculo da ultima saida\n",
        "    O[2][0] = 1.0/(1.0+np.exp(-I[2][0]))\n",
        "    erro +=  (saida[i]-O[2][0]) * (saida[i]-O[2][0])\n",
        "    saidas.append(round(O[2][0]))\n",
        "  n+=1\n",
        "  erro *= 0.5\n",
        "  diferenca_erro = erro - erro_inicial\n",
        "  if diferenca_erro < 0.0:\n",
        "    #print(diferenca_erro)\n",
        "    atualizar_array(w1, w1_copia)\n",
        "    atualizar_array(w2, w2_copia)\n",
        "    erro_inicial = erro\n",
        "    if erro < tx:\n",
        "      break\n",
        "  else:\n",
        "    #print('if')\n",
        "    sorteio = np.random.rand()\n",
        "    #print(sorteio)\n",
        "    exponencial = (np.exp(-diferenca_erro))/KT\n",
        "    #print(exponencial)\n",
        "    #print('-----------------')\n",
        "    if exponencial > sorteio:\n",
        "      #print('Atualizar array')\n",
        "      atualizar_array(w1, w1_copia)\n",
        "      atualizar_array(w2, w2_copia)\n",
        "      erro_inicial = erro\n",
        "      if erro < tx:\n",
        "        break\n",
        "\n"
      ],
      "execution_count": null,
      "outputs": []
    },
    {
      "cell_type": "code",
      "metadata": {
        "colab": {
          "base_uri": "https://localhost:8080/",
          "height": 178
        },
        "id": "68B9hBcOJmo3",
        "outputId": "0a1fdb2e-873d-4ffd-e87b-60bb60269711"
      },
      "source": [
        "\n",
        "print(\"Epoca: \" + str(n))\n",
        "print(\"Erro: \" + str(erro))\n",
        "peso1 = []\n",
        "peso2 = []\n",
        "peso3 = []\n",
        "for i in range(w1.shape[1]):\n",
        "  peso1.append(w1[0][i])\n",
        "  peso2.append(w1[1][i])\n",
        "  peso3.append(w2[i])\n",
        "df_1['W0_inicial'] = peso_comparar_1\n",
        "df_1['W0_final'] = peso1\n",
        "df_1['W1_inicial'] = peso_comparar_2\n",
        "df_1['W1_final'] = peso2\n",
        "df_1['W2_inicial'] = peso_comparar_3\n",
        "df_1['W2_final'] = peso3\n",
        "\n",
        "\n",
        "df_1"
      ],
      "execution_count": null,
      "outputs": [
        {
          "output_type": "stream",
          "name": "stdout",
          "text": [
            "Epoca: 18142.0\n",
            "Erro: 6.624229952748489e-06\n"
          ]
        },
        {
          "output_type": "execute_result",
          "data": {
            "text/html": [
              "<div>\n",
              "<style scoped>\n",
              "    .dataframe tbody tr th:only-of-type {\n",
              "        vertical-align: middle;\n",
              "    }\n",
              "\n",
              "    .dataframe tbody tr th {\n",
              "        vertical-align: top;\n",
              "    }\n",
              "\n",
              "    .dataframe thead th {\n",
              "        text-align: right;\n",
              "    }\n",
              "</style>\n",
              "<table border=\"1\" class=\"dataframe\">\n",
              "  <thead>\n",
              "    <tr style=\"text-align: right;\">\n",
              "      <th></th>\n",
              "      <th>W0_inicial</th>\n",
              "      <th>W0_final</th>\n",
              "      <th>W1_inicial</th>\n",
              "      <th>W1_final</th>\n",
              "      <th>W2_inicial</th>\n",
              "      <th>W2_final</th>\n",
              "    </tr>\n",
              "  </thead>\n",
              "  <tbody>\n",
              "    <tr>\n",
              "      <th>0</th>\n",
              "      <td>-14.921207</td>\n",
              "      <td>32.790719</td>\n",
              "      <td>15.889461</td>\n",
              "      <td>-49.688322</td>\n",
              "      <td>-1.944941</td>\n",
              "      <td>22.610801</td>\n",
              "    </tr>\n",
              "    <tr>\n",
              "      <th>1</th>\n",
              "      <td>18.668714</td>\n",
              "      <td>-45.881218</td>\n",
              "      <td>-4.930011</td>\n",
              "      <td>30.351097</td>\n",
              "      <td>13.610203</td>\n",
              "      <td>159.709549</td>\n",
              "    </tr>\n",
              "    <tr>\n",
              "      <th>2</th>\n",
              "      <td>-9.580960</td>\n",
              "      <td>-31.431745</td>\n",
              "      <td>-6.551130</td>\n",
              "      <td>-31.971295</td>\n",
              "      <td>-15.075914</td>\n",
              "      <td>-12.376824</td>\n",
              "    </tr>\n",
              "  </tbody>\n",
              "</table>\n",
              "</div>"
            ],
            "text/plain": [
              "   W0_inicial   W0_final  W1_inicial   W1_final  W2_inicial    W2_final\n",
              "0  -14.921207  32.790719   15.889461 -49.688322   -1.944941   22.610801\n",
              "1   18.668714 -45.881218   -4.930011  30.351097   13.610203  159.709549\n",
              "2   -9.580960 -31.431745   -6.551130 -31.971295  -15.075914  -12.376824"
            ]
          },
          "metadata": {},
          "execution_count": 138
        }
      ]
    },
    {
      "cell_type": "code",
      "metadata": {
        "colab": {
          "base_uri": "https://localhost:8080/",
          "height": 175
        },
        "id": "g0Zkop9jKDxe",
        "outputId": "8e560eb3-1e0b-43b8-e469-3e6ab9712e50"
      },
      "source": [
        "df['E1'] = E1\n",
        "df['E2'] = E2\n",
        "df['Saidas_esperadas'] = saida\n",
        "df['Saidas_geradas'] = saidas\n",
        "df"
      ],
      "execution_count": null,
      "outputs": [
        {
          "output_type": "execute_result",
          "data": {
            "text/html": [
              "<div>\n",
              "<style scoped>\n",
              "    .dataframe tbody tr th:only-of-type {\n",
              "        vertical-align: middle;\n",
              "    }\n",
              "\n",
              "    .dataframe tbody tr th {\n",
              "        vertical-align: top;\n",
              "    }\n",
              "\n",
              "    .dataframe thead th {\n",
              "        text-align: right;\n",
              "    }\n",
              "</style>\n",
              "<table border=\"1\" class=\"dataframe\">\n",
              "  <thead>\n",
              "    <tr style=\"text-align: right;\">\n",
              "      <th></th>\n",
              "      <th>E1</th>\n",
              "      <th>E2</th>\n",
              "      <th>Saidas_esperadas</th>\n",
              "      <th>Saidas_geradas</th>\n",
              "    </tr>\n",
              "  </thead>\n",
              "  <tbody>\n",
              "    <tr>\n",
              "      <th>0</th>\n",
              "      <td>0</td>\n",
              "      <td>0</td>\n",
              "      <td>0.0</td>\n",
              "      <td>0</td>\n",
              "    </tr>\n",
              "    <tr>\n",
              "      <th>1</th>\n",
              "      <td>0</td>\n",
              "      <td>1</td>\n",
              "      <td>1.0</td>\n",
              "      <td>1</td>\n",
              "    </tr>\n",
              "    <tr>\n",
              "      <th>2</th>\n",
              "      <td>1</td>\n",
              "      <td>0</td>\n",
              "      <td>1.0</td>\n",
              "      <td>1</td>\n",
              "    </tr>\n",
              "    <tr>\n",
              "      <th>3</th>\n",
              "      <td>1</td>\n",
              "      <td>1</td>\n",
              "      <td>0.0</td>\n",
              "      <td>0</td>\n",
              "    </tr>\n",
              "  </tbody>\n",
              "</table>\n",
              "</div>"
            ],
            "text/plain": [
              "   E1  E2  Saidas_esperadas  Saidas_geradas\n",
              "0   0   0               0.0               0\n",
              "1   0   1               1.0               1\n",
              "2   1   0               1.0               1\n",
              "3   1   1               0.0               0"
            ]
          },
          "metadata": {},
          "execution_count": 139
        }
      ]
    },
    {
      "cell_type": "code",
      "metadata": {
        "id": "XMqqA3gpdcHx",
        "colab": {
          "base_uri": "https://localhost:8080/"
        },
        "outputId": "856d0ac1-bd71-4548-9195-0ebfd702db04"
      },
      "source": [
        "print(saidas)"
      ],
      "execution_count": null,
      "outputs": [
        {
          "output_type": "stream",
          "name": "stdout",
          "text": [
            "[0, 1, 1, 0]\n"
          ]
        }
      ]
    }
  ]
}