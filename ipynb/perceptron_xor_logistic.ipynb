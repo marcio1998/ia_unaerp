{
  "nbformat": 4,
  "nbformat_minor": 0,
  "metadata": {
    "colab": {
      "name": "perceptron_xor_logistic.ipynb",
      "provenance": [],
      "collapsed_sections": []
    },
    "kernelspec": {
      "name": "python3",
      "display_name": "Python 3"
    },
    "language_info": {
      "name": "python"
    }
  },
  "cells": [
    {
      "cell_type": "code",
      "metadata": {
        "id": "4c9Q6m0tfQS_"
      },
      "source": [
        "import numpy as np\n",
        "i1 = [0,0,1,1]\n",
        "i2 = [0,1,0,1]\n",
        "weight_1 = 5\n",
        "weight_2 = 6\n",
        "weight_3 = 9\n",
        "weight_4 = 3\n",
        "weight_5 = 4\n",
        "weight_6 = 2\n",
        "t1 = 10\n",
        "t2 = 2\n",
        "t3 = 1\n",
        "def trash_hold(sum,t):\n",
        "  soma = 1/(1+np.exp(-10*(sum-t)))\n",
        "  #print(soma)\n",
        "  return soma\n",
        "def trash_hold_2(sum,t):\n",
        "  soma = 1/(1+np.exp(+10*(sum-t)))\n",
        "  print(soma)\n",
        "  return soma\n",
        "sum1 = []\n",
        "sum2 = []\n",
        "sum3 = []\n",
        "O1 = [] \n",
        "O2 = []\n",
        "O3 = []"
      ],
      "execution_count": null,
      "outputs": []
    },
    {
      "cell_type": "code",
      "metadata": {
        "colab": {
          "base_uri": "https://localhost:8080/"
        },
        "id": "AQAtRZg2flNW",
        "outputId": "092d3576-5059-46a1-9fb0-e5ca890324fc"
      },
      "source": [
        "for x in range(len(i1)):\n",
        "  sum1.append(i1[x]*weight_1 + i2[x]*weight_2)\n",
        "  O1.append(round(trash_hold(sum1[x],t1)))\n",
        "#print(sum1)\n",
        "print(O1)"
      ],
      "execution_count": null,
      "outputs": [
        {
          "output_type": "stream",
          "text": [
            "[0, 0, 0, 1]\n"
          ],
          "name": "stdout"
        }
      ]
    },
    {
      "cell_type": "code",
      "metadata": {
        "colab": {
          "base_uri": "https://localhost:8080/",
          "height": 175
        },
        "id": "9zswqhZHfubs",
        "outputId": "b56b3904-fe45-48be-dd37-4060dbd22e41"
      },
      "source": [
        "import pandas as pd\n",
        "df = pd.DataFrame(columns = ['i1', 'i2', 'Sum1', 'O1'])\n",
        "df['i1'] = i1\n",
        "df['i2'] = i2\n",
        "df['Sum1'] = sum1\n",
        "df['O1'] = O1\n",
        "df"
      ],
      "execution_count": null,
      "outputs": [
        {
          "output_type": "execute_result",
          "data": {
            "text/html": [
              "<div>\n",
              "<style scoped>\n",
              "    .dataframe tbody tr th:only-of-type {\n",
              "        vertical-align: middle;\n",
              "    }\n",
              "\n",
              "    .dataframe tbody tr th {\n",
              "        vertical-align: top;\n",
              "    }\n",
              "\n",
              "    .dataframe thead th {\n",
              "        text-align: right;\n",
              "    }\n",
              "</style>\n",
              "<table border=\"1\" class=\"dataframe\">\n",
              "  <thead>\n",
              "    <tr style=\"text-align: right;\">\n",
              "      <th></th>\n",
              "      <th>i1</th>\n",
              "      <th>i2</th>\n",
              "      <th>Sum1</th>\n",
              "      <th>O1</th>\n",
              "    </tr>\n",
              "  </thead>\n",
              "  <tbody>\n",
              "    <tr>\n",
              "      <th>0</th>\n",
              "      <td>0</td>\n",
              "      <td>0</td>\n",
              "      <td>0</td>\n",
              "      <td>0</td>\n",
              "    </tr>\n",
              "    <tr>\n",
              "      <th>1</th>\n",
              "      <td>0</td>\n",
              "      <td>1</td>\n",
              "      <td>6</td>\n",
              "      <td>0</td>\n",
              "    </tr>\n",
              "    <tr>\n",
              "      <th>2</th>\n",
              "      <td>1</td>\n",
              "      <td>0</td>\n",
              "      <td>5</td>\n",
              "      <td>0</td>\n",
              "    </tr>\n",
              "    <tr>\n",
              "      <th>3</th>\n",
              "      <td>1</td>\n",
              "      <td>1</td>\n",
              "      <td>11</td>\n",
              "      <td>1</td>\n",
              "    </tr>\n",
              "  </tbody>\n",
              "</table>\n",
              "</div>"
            ],
            "text/plain": [
              "   i1  i2  Sum1  O1\n",
              "0   0   0     0   0\n",
              "1   0   1     6   0\n",
              "2   1   0     5   0\n",
              "3   1   1    11   1"
            ]
          },
          "metadata": {},
          "execution_count": 76
        }
      ]
    },
    {
      "cell_type": "code",
      "metadata": {
        "colab": {
          "base_uri": "https://localhost:8080/"
        },
        "id": "9af-LjLJfyxB",
        "outputId": "c60bed57-10f9-4b7b-dd97-00c3b9a1fbb5"
      },
      "source": [
        "for x in range(len(i1)):\n",
        "  sum2.append(i1[x]*weight_3 + i2[x]*weight_4)\n",
        "  O2.append(round(trash_hold_2(sum2[x],t2)))\n",
        "print(sum2)\n",
        "print(O2)"
      ],
      "execution_count": null,
      "outputs": [
        {
          "output_type": "stream",
          "text": [
            "0.9999999979388463\n",
            "4.5397868702434395e-05\n",
            "3.975449735908647e-31\n",
            "3.7200759760208356e-44\n",
            "[0, 3, 9, 12]\n",
            "[1, 0, 0, 0]\n"
          ],
          "name": "stdout"
        }
      ]
    },
    {
      "cell_type": "code",
      "metadata": {
        "colab": {
          "base_uri": "https://localhost:8080/",
          "height": 175
        },
        "id": "vzsISKeYgZwP",
        "outputId": "32eed948-6bdc-49df-9a96-ec69f928455a"
      },
      "source": [
        "df['Sum2'] = sum2\n",
        "df['O2'] = O2\n",
        "df"
      ],
      "execution_count": null,
      "outputs": [
        {
          "output_type": "execute_result",
          "data": {
            "text/html": [
              "<div>\n",
              "<style scoped>\n",
              "    .dataframe tbody tr th:only-of-type {\n",
              "        vertical-align: middle;\n",
              "    }\n",
              "\n",
              "    .dataframe tbody tr th {\n",
              "        vertical-align: top;\n",
              "    }\n",
              "\n",
              "    .dataframe thead th {\n",
              "        text-align: right;\n",
              "    }\n",
              "</style>\n",
              "<table border=\"1\" class=\"dataframe\">\n",
              "  <thead>\n",
              "    <tr style=\"text-align: right;\">\n",
              "      <th></th>\n",
              "      <th>i1</th>\n",
              "      <th>i2</th>\n",
              "      <th>Sum1</th>\n",
              "      <th>O1</th>\n",
              "      <th>Sum2</th>\n",
              "      <th>O2</th>\n",
              "    </tr>\n",
              "  </thead>\n",
              "  <tbody>\n",
              "    <tr>\n",
              "      <th>0</th>\n",
              "      <td>0</td>\n",
              "      <td>0</td>\n",
              "      <td>0</td>\n",
              "      <td>0</td>\n",
              "      <td>0</td>\n",
              "      <td>1</td>\n",
              "    </tr>\n",
              "    <tr>\n",
              "      <th>1</th>\n",
              "      <td>0</td>\n",
              "      <td>1</td>\n",
              "      <td>6</td>\n",
              "      <td>0</td>\n",
              "      <td>3</td>\n",
              "      <td>0</td>\n",
              "    </tr>\n",
              "    <tr>\n",
              "      <th>2</th>\n",
              "      <td>1</td>\n",
              "      <td>0</td>\n",
              "      <td>5</td>\n",
              "      <td>0</td>\n",
              "      <td>9</td>\n",
              "      <td>0</td>\n",
              "    </tr>\n",
              "    <tr>\n",
              "      <th>3</th>\n",
              "      <td>1</td>\n",
              "      <td>1</td>\n",
              "      <td>11</td>\n",
              "      <td>1</td>\n",
              "      <td>12</td>\n",
              "      <td>0</td>\n",
              "    </tr>\n",
              "  </tbody>\n",
              "</table>\n",
              "</div>"
            ],
            "text/plain": [
              "   i1  i2  Sum1  O1  Sum2  O2\n",
              "0   0   0     0   0     0   1\n",
              "1   0   1     6   0     3   0\n",
              "2   1   0     5   0     9   0\n",
              "3   1   1    11   1    12   0"
            ]
          },
          "metadata": {},
          "execution_count": 78
        }
      ]
    },
    {
      "cell_type": "code",
      "metadata": {
        "colab": {
          "base_uri": "https://localhost:8080/"
        },
        "id": "15_lMaT-gvUZ",
        "outputId": "d6990a21-3a70-497c-a659-227d315be687"
      },
      "source": [
        "for x in range(len(i1)):\n",
        "  sum3.append(O1[x]*weight_5 + O2[x]*weight_6)\n",
        "  O3.append(round(trash_hold_2(sum3[x],t3)))\n",
        "print(sum3)\n",
        "print(O3)"
      ],
      "execution_count": null,
      "outputs": [
        {
          "output_type": "stream",
          "text": [
            "4.5397868702434395e-05\n",
            "0.9999546021312976\n",
            "0.9999546021312976\n",
            "9.357622968839299e-14\n",
            "[2, 0, 0, 4]\n",
            "[0, 1, 1, 0]\n"
          ],
          "name": "stdout"
        }
      ]
    },
    {
      "cell_type": "code",
      "metadata": {
        "colab": {
          "base_uri": "https://localhost:8080/",
          "height": 175
        },
        "id": "lah2kK61hL6u",
        "outputId": "5c9cd60b-b361-454c-a89c-9b67bbb46206"
      },
      "source": [
        "df['Sum3'] = sum3\n",
        "df['O3'] = O3\n",
        "df"
      ],
      "execution_count": null,
      "outputs": [
        {
          "output_type": "execute_result",
          "data": {
            "text/html": [
              "<div>\n",
              "<style scoped>\n",
              "    .dataframe tbody tr th:only-of-type {\n",
              "        vertical-align: middle;\n",
              "    }\n",
              "\n",
              "    .dataframe tbody tr th {\n",
              "        vertical-align: top;\n",
              "    }\n",
              "\n",
              "    .dataframe thead th {\n",
              "        text-align: right;\n",
              "    }\n",
              "</style>\n",
              "<table border=\"1\" class=\"dataframe\">\n",
              "  <thead>\n",
              "    <tr style=\"text-align: right;\">\n",
              "      <th></th>\n",
              "      <th>i1</th>\n",
              "      <th>i2</th>\n",
              "      <th>Sum1</th>\n",
              "      <th>O1</th>\n",
              "      <th>Sum2</th>\n",
              "      <th>O2</th>\n",
              "      <th>Sum3</th>\n",
              "      <th>O3</th>\n",
              "    </tr>\n",
              "  </thead>\n",
              "  <tbody>\n",
              "    <tr>\n",
              "      <th>0</th>\n",
              "      <td>0</td>\n",
              "      <td>0</td>\n",
              "      <td>0</td>\n",
              "      <td>0</td>\n",
              "      <td>0</td>\n",
              "      <td>1</td>\n",
              "      <td>2</td>\n",
              "      <td>0</td>\n",
              "    </tr>\n",
              "    <tr>\n",
              "      <th>1</th>\n",
              "      <td>0</td>\n",
              "      <td>1</td>\n",
              "      <td>6</td>\n",
              "      <td>0</td>\n",
              "      <td>3</td>\n",
              "      <td>0</td>\n",
              "      <td>0</td>\n",
              "      <td>1</td>\n",
              "    </tr>\n",
              "    <tr>\n",
              "      <th>2</th>\n",
              "      <td>1</td>\n",
              "      <td>0</td>\n",
              "      <td>5</td>\n",
              "      <td>0</td>\n",
              "      <td>9</td>\n",
              "      <td>0</td>\n",
              "      <td>0</td>\n",
              "      <td>1</td>\n",
              "    </tr>\n",
              "    <tr>\n",
              "      <th>3</th>\n",
              "      <td>1</td>\n",
              "      <td>1</td>\n",
              "      <td>11</td>\n",
              "      <td>1</td>\n",
              "      <td>12</td>\n",
              "      <td>0</td>\n",
              "      <td>4</td>\n",
              "      <td>0</td>\n",
              "    </tr>\n",
              "  </tbody>\n",
              "</table>\n",
              "</div>"
            ],
            "text/plain": [
              "   i1  i2  Sum1  O1  Sum2  O2  Sum3  O3\n",
              "0   0   0     0   0     0   1     2   0\n",
              "1   0   1     6   0     3   0     0   1\n",
              "2   1   0     5   0     9   0     0   1\n",
              "3   1   1    11   1    12   0     4   0"
            ]
          },
          "metadata": {},
          "execution_count": 80
        }
      ]
    },
    {
      "cell_type": "code",
      "metadata": {
        "colab": {
          "base_uri": "https://localhost:8080/",
          "height": 301
        },
        "id": "-M2mSpCphO0C",
        "outputId": "227b38c7-9a7b-4fb4-e4cd-be81e81d8052"
      },
      "source": [
        "import matplotlib.pyplot as plt\n",
        "import seaborn as sns\n",
        "sns.set()\n",
        "plt.scatter(sum3,O3)\n",
        "plt.plot(sum3,O3,c = 'orange', lw = 3)\n",
        "plt.xlabel('Sum')\n",
        "plt.ylabel('f(sum)')\n",
        "plt.title('Percpetron XOR')\n",
        "plt.show()"
      ],
      "execution_count": null,
      "outputs": [
        {
          "output_type": "display_data",
          "data": {
            "image/png": "[encoded data removed]",
            "text/plain": [
              "<Figure size 432x288 with 1 Axes>"
            ]
          },
          "metadata": {}
        }
      ]
    }
  ]
}