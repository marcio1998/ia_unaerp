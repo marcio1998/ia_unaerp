{
  "nbformat": 4,
  "nbformat_minor": 0,
  "metadata": {
    "colab": {
      "name": "xor_logistic_4_1.ipynb",
      "provenance": [],
      "collapsed_sections": []
    },
    "kernelspec": {
      "name": "python3",
      "display_name": "Python 3"
    },
    "language_info": {
      "name": "python"
    }
  },
  "cells": [
    {
      "cell_type": "markdown",
      "metadata": {
        "id": "HzYd0eT4f1Iy"
      },
      "source": [
        "# importações de bibliotecas e criação do data frame"
      ]
    },
    {
      "cell_type": "code",
      "metadata": {
        "id": "YPdJMiSnfxDC"
      },
      "source": [
        "import numpy as np\n",
        "import pandas as pd\n",
        "df = pd.DataFrame()"
      ],
      "execution_count": 1,
      "outputs": []
    },
    {
      "cell_type": "markdown",
      "metadata": {
        "id": "Dt5oqy8agAtf"
      },
      "source": [
        "## Criação das entradas."
      ]
    },
    {
      "cell_type": "code",
      "metadata": {
        "id": "tZTLXgzZf_aY"
      },
      "source": [
        "E1 = [0,0,1,1]\n",
        "E2 = [0,1,0,1]\n",
        "B = 10"
      ],
      "execution_count": 2,
      "outputs": []
    },
    {
      "cell_type": "markdown",
      "metadata": {
        "id": "AL4WBKYGgHfX"
      },
      "source": [
        "#Definição dos pesos e trashhold."
      ]
    },
    {
      "cell_type": "markdown",
      "metadata": {
        "id": "B13HdA68gdWM"
      },
      "source": [
        "### Trabalhar sempre com float"
      ]
    },
    {
      "cell_type": "markdown",
      "metadata": {
        "id": "tH8WwEvOgp0m"
      },
      "source": [
        "#Criação das matrizes"
      ]
    },
    {
      "cell_type": "code",
      "metadata": {
        "id": "GBAJm3Hqgpng"
      },
      "source": [
        "w1 = np.array([[7.0, 2.0, 8.0],[9.0,4.0,2.0]])\n",
        "w2 = np.array([5.0,1.0,5.5])"
      ],
      "execution_count": 3,
      "outputs": []
    },
    {
      "cell_type": "markdown",
      "metadata": {
        "id": "acyE0ByQgi2S"
      },
      "source": [
        "# Manipulação dos pesos e trash_hdold"
      ]
    },
    {
      "cell_type": "markdown",
      "metadata": {
        "id": "AUXhPZy1hSU_"
      },
      "source": [
        "### saber pela tabela se o peso tem que ser maior ou menor que o trash_hold na lógica para saber se o B(Beta) é positivo ou negativo para realizar conversão dos pesos e trash_hold para a matriz"
      ]
    },
    {
      "cell_type": "code",
      "metadata": {
        "colab": {
          "base_uri": "https://localhost:8080/"
        },
        "id": "IWjIw4nagihq",
        "outputId": "703c9c16-c5c9-4e75-fa84-cbf80fbfc520"
      },
      "source": [
        "def manipular_peso_trash_hold(matriz, sinal):\n",
        "  if matriz.shape[0] == 2:\n",
        "    for i in range(matriz.shape[0]):\n",
        "      beta = -B if sinal[i] == '-' else B\n",
        "      for j in range(matriz.shape[1]):\n",
        "        matriz[i][j] *= -beta if j == 2 else beta\n",
        "  else:\n",
        "    for i in range(matriz.shape[0]):\n",
        "      beta = -B if sinal == '-' else B\n",
        "      matriz[i] *= -beta if i == 2 else beta\n",
        "manipular_peso_trash_hold(w1,['-', '+'])\n",
        "manipular_peso_trash_hold(w2,'+')\n",
        "print(w1)\n",
        "print(w2)\n"
      ],
      "execution_count": 4,
      "outputs": [
        {
          "output_type": "stream",
          "name": "stdout",
          "text": [
            "[[-70. -20.  80.]\n",
            " [ 90.  40. -20.]]\n",
            "[ 50.  10. -55.]\n"
          ]
        }
      ]
    },
    {
      "cell_type": "code",
      "metadata": {
        "colab": {
          "base_uri": "https://localhost:8080/"
        },
        "id": "Hbue79wI0-dF",
        "outputId": "0363cc29-b6f0-499d-ab90-24221dbff8e0"
      },
      "source": [
        "x = np.zeros((1,3))\n",
        "x"
      ],
      "execution_count": 5,
      "outputs": [
        {
          "output_type": "execute_result",
          "data": {
            "text/plain": [
              "array([[0., 0., 0.]])"
            ]
          },
          "metadata": {},
          "execution_count": 5
        }
      ]
    },
    {
      "cell_type": "code",
      "metadata": {
        "id": "71PVoyXqvO3N"
      },
      "source": [
        "#criar as matrizes de entrada.\n",
        "I = np.zeros((3,3))\n",
        "O = np.zeros((3,3))\n",
        "saidas = []\n",
        "for i in range(len(E1)):\n",
        "  #I1 - copia dos dados de entrada.\n",
        "  I[0][0] = E1[i]\n",
        "  I[0][1] = E2[i]\n",
        "  I[0][2] = 1.0 # Constante.\n",
        "  #Copia para os Outputs\n",
        "  O[0][0] = I[0][0]\n",
        "  O[0][1] = I[0][1]\n",
        "  O[0][2] = I[0][2]\n",
        "  #Calculo Para as entradas da segunda camada.\n",
        "  I[1][0] = O[0][0]*w1[0][0] + O[0][1]*w1[0][1] + O[0][2]*w1[0][2]\n",
        "  I[1][1] = O[0][0]*w1[1][0] + O[0][1]*w1[1][1] + O[0][2]*w1[1][2]\n",
        "  I[1][2] = 1.0 # constante.\n",
        "  #Calculo do Exp para trash_hold.\n",
        "  O[1][0] = 1.0/(1.0+np.exp(-I[1][0]))\n",
        "  O[1][1] = 1.0/(1.0+np.exp(-I[1][1]))\n",
        "  O[1][2] = I[1][2]\n",
        "  #calculo da ultima entrada\n",
        "  I[2][0] = O[1][0]*w2[0] + O[1][1]*w2[1] + O[1][2]*w2[2]\n",
        "  #Calculo da ultima saida\n",
        "  O[2][0] = round(1.0/(1.0+np.exp(-I[2][0]))) \n",
        "  saidas.append(O[2][0])"
      ],
      "execution_count": 6,
      "outputs": []
    },
    {
      "cell_type": "code",
      "metadata": {
        "colab": {
          "base_uri": "https://localhost:8080/",
          "height": 175
        },
        "id": "a17NOED91OEN",
        "outputId": "5da702e1-6b90-48bc-e1d8-430ba4da858b"
      },
      "source": [
        "df['E1'] = E1\n",
        "df['E2'] = E2\n",
        "df['Outputs'] = saidas\n",
        "df"
      ],
      "execution_count": 7,
      "outputs": [
        {
          "output_type": "execute_result",
          "data": {
            "text/html": [
              "<div>\n",
              "<style scoped>\n",
              "    .dataframe tbody tr th:only-of-type {\n",
              "        vertical-align: middle;\n",
              "    }\n",
              "\n",
              "    .dataframe tbody tr th {\n",
              "        vertical-align: top;\n",
              "    }\n",
              "\n",
              "    .dataframe thead th {\n",
              "        text-align: right;\n",
              "    }\n",
              "</style>\n",
              "<table border=\"1\" class=\"dataframe\">\n",
              "  <thead>\n",
              "    <tr style=\"text-align: right;\">\n",
              "      <th></th>\n",
              "      <th>E1</th>\n",
              "      <th>E2</th>\n",
              "      <th>Outputs</th>\n",
              "    </tr>\n",
              "  </thead>\n",
              "  <tbody>\n",
              "    <tr>\n",
              "      <th>0</th>\n",
              "      <td>0</td>\n",
              "      <td>0</td>\n",
              "      <td>0.0</td>\n",
              "    </tr>\n",
              "    <tr>\n",
              "      <th>1</th>\n",
              "      <td>0</td>\n",
              "      <td>1</td>\n",
              "      <td>1.0</td>\n",
              "    </tr>\n",
              "    <tr>\n",
              "      <th>2</th>\n",
              "      <td>1</td>\n",
              "      <td>0</td>\n",
              "      <td>1.0</td>\n",
              "    </tr>\n",
              "    <tr>\n",
              "      <th>3</th>\n",
              "      <td>1</td>\n",
              "      <td>1</td>\n",
              "      <td>0.0</td>\n",
              "    </tr>\n",
              "  </tbody>\n",
              "</table>\n",
              "</div>"
            ],
            "text/plain": [
              "   E1  E2  Outputs\n",
              "0   0   0      0.0\n",
              "1   0   1      1.0\n",
              "2   1   0      1.0\n",
              "3   1   1      0.0"
            ]
          },
          "metadata": {},
          "execution_count": 7
        }
      ]
    }
  ]
}