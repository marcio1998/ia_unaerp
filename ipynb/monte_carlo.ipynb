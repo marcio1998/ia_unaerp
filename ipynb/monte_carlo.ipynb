{
  "nbformat": 4,
  "nbformat_minor": 0,
  "metadata": {
    "colab": {
      "name": "monte_carlo.ipynb",
      "provenance": [],
      "collapsed_sections": []
    },
    "kernelspec": {
      "name": "python3",
      "display_name": "Python 3"
    },
    "language_info": {
      "name": "python"
    }
  },
  "cells": [
    {
      "cell_type": "code",
      "metadata": {
        "id": "6j27NQsoZVby"
      },
      "source": [
        "import numpy as np\n",
        "import pandas as pd\n",
        "df = pd.DataFrame()\n",
        "df_1 = pd.DataFrame()\n",
        "df_2 = pd.DataFrame()\n",
        "np.random.seed(123)"
      ],
      "execution_count": 9,
      "outputs": []
    },
    {
      "cell_type": "code",
      "metadata": {
        "id": "xvTAS234Zfw9"
      },
      "source": [
        "E1 = [0,0,1,1]\n",
        "E2 = [0,1,0,1]\n",
        "saida = [0.0,1.0,1.0,0.0]\n",
        "tx = 0.0001\n",
        "erro_inicial = 0.0\n",
        "B = 10"
      ],
      "execution_count": 10,
      "outputs": []
    },
    {
      "cell_type": "code",
      "metadata": {
        "id": "6qCKCHeraqVK"
      },
      "source": [
        "def manipular_peso_trash_hold(matriz):\n",
        "  if matriz.shape[0] == 2:\n",
        "    for i in range(matriz.shape[0]):\n",
        "      for j in range(matriz.shape[1]):\n",
        "        matriz[i][j] =  (matriz[i][j]*40) -20 \n",
        "  else:\n",
        "    for i in range(matriz.shape[0]):\n",
        "      matriz[i] = (matriz[i]*40)-20"
      ],
      "execution_count": 11,
      "outputs": []
    },
    {
      "cell_type": "code",
      "metadata": {
        "id": "AvjQeBo2arFX"
      },
      "source": [
        "def passo(matriz):\n",
        "  matriz_1 =  np.random.rand(2,3)\n",
        "  matriz_2 = np.random.rand(3)\n",
        "  peso = np.random.rand(1)\n",
        "  #print(matriz)\n",
        "  if matriz.shape[0] == 2:\n",
        "    matriz_retorno = np.zeros((2,3))\n",
        "    for i in range(matriz.shape[0]):\n",
        "      for j in range(matriz.shape[1]):\n",
        "        matriz_retorno[i][j] = matriz[i][j] + ((matriz_1[i][j]*2)-1)\n",
        "    return matriz_retorno\n",
        "  else:\n",
        "    matriz_retorno = np.zeros((3))\n",
        "    for i in range(matriz.shape[0]):\n",
        "      matriz_retorno[i] = matriz[i] + ((matriz_2[i]*2)-1)\n",
        "    return matriz_retorno"
      ],
      "execution_count": 12,
      "outputs": []
    },
    {
      "cell_type": "code",
      "metadata": {
        "id": "uyGQ-MNcB-jD"
      },
      "source": [
        "def atualizar_array(matriz_1, matriz_2):\n",
        "  if matriz_1.shape[0] == 2:\n",
        "    for i in range(matriz_1.shape[0]):\n",
        "      for j in range(matriz_1.shape[1]):\n",
        "        matriz_1[i][j] = matriz_2[i][j] \n",
        "  else:\n",
        "    for i in range(matriz_1.shape[0]):\n",
        "      matriz_1[i] = matriz_2[i]\n"
      ],
      "execution_count": 13,
      "outputs": []
    },
    {
      "cell_type": "code",
      "metadata": {
        "colab": {
          "base_uri": "https://localhost:8080/"
        },
        "id": "XkXLxuyYa6KO",
        "outputId": "93ee906b-64b6-487e-eb0b-f9405a31196b"
      },
      "source": [
        "w1 = np.random.rand(2,3)\n",
        "w2 = np.random.rand(3)\n",
        "manipular_peso_trash_hold(w1)\n",
        "manipular_peso_trash_hold(w2)\n",
        "I = np.zeros((3,3))\n",
        "O = np.zeros((3,3))\n",
        "for i in range(len(E1)):\n",
        "  #I1 - copia dos dados de entrada.\n",
        "  I[0][0] = E1[i]\n",
        "  I[0][1] = E2[i]\n",
        "  I[0][2] = 1.0 # Constante.\n",
        "  #Copia para os Outputs\n",
        "  O[0][0] = I[0][0]\n",
        "  O[0][1] = I[0][1]\n",
        "  O[0][2] = I[0][2]\n",
        "  #Calculo Para as entradas da segunda camada.\n",
        "  I[1][0] = O[0][0]*w1[0][0] + O[0][1]*w1[0][1] + O[0][2]*w1[0][2]\n",
        "  I[1][1] = O[0][0]*w1[1][0] + O[0][1]*w1[1][1] + O[0][2]*w1[1][2]\n",
        "  I[1][2] = 1.0 # constante.\n",
        "  #Calculo do Exp para trash_hold.\n",
        "  O[1][0] = 1.0/(1.0+np.exp(-I[1][0]))\n",
        "  O[1][1] = 1.0/(1.0+np.exp(-I[1][1]))\n",
        "  O[1][2] = I[1][2]\n",
        "  #calculo da ultima entrada\n",
        "  I[2][0] = O[1][0]*w2[0] + O[1][1]*w2[1] + O[1][2]*w2[2]\n",
        "  #Calculo da ultima saida\n",
        "  O[2][0] = 1.0/(1.0+np.exp(-I[2][0]))\n",
        "  erro_inicial += float(pow((saida[i]-O[2][0]),2))\n",
        "erro_inicial *= 0.5\n",
        "peso_comparar_1 = []\n",
        "peso_comparar_2 = []\n",
        "peso_comparar_3 = []\n",
        "for i in range(w1.shape[1]):\n",
        "  peso_comparar_1.append(w1[0][i])\n",
        "  peso_comparar_2.append(w1[1][i])\n",
        "  peso_comparar_3.append(w2[i])\n",
        "print(erro_inicial)\n",
        "print(w1)\n",
        "print(w2)"
      ],
      "execution_count": 14,
      "outputs": [
        {
          "output_type": "stream",
          "name": "stdout",
          "text": [
            "0.5822982904342071\n",
            "[[  7.85876742  -8.5544266  -10.92594186]\n",
            " [  2.05259076   8.77875879  -3.0757416 ]]\n",
            "[19.23056794  7.39318954 -0.76272394]\n"
          ]
        }
      ]
    },
    {
      "cell_type": "code",
      "metadata": {
        "id": "Bg1K7Rsab17U",
        "colab": {
          "base_uri": "https://localhost:8080/"
        },
        "outputId": "b09e4ccf-56c1-4f5b-cdc5-11af9aac0b8b"
      },
      "source": [
        "erro = 1.0\n",
        "n = 0.0\n",
        "while erro > tx:\n",
        "  diferenca_erro = 0.0\n",
        "  erro = 0.0\n",
        "  saidas = []\n",
        "  w1_copia = passo(w1)\n",
        "  w2_copia = passo(w2)\n",
        "  #print(w1_copia)\n",
        "  #print(w2_copia)\n",
        "  #print('----------------')\n",
        "  I = np.zeros((3,3))\n",
        "  O = np.zeros((3,3))\n",
        "  for i in range(len(E1)):\n",
        "    #I1 - copia dos dados de entrada.\n",
        "    I[0][0] = E1[i]\n",
        "    I[0][1] = E2[i]\n",
        "    I[0][2] = 1.0 # Constante.\n",
        "    #Copia para os Outputs\n",
        "    O[0][0] = I[0][0]\n",
        "    O[0][1] = I[0][1]\n",
        "    O[0][2] = I[0][2]\n",
        "    #Calculo Para as entradas da segunda camada.\n",
        "    I[1][0] = O[0][0]*w1_copia[0][0] + O[0][1]*w1_copia[0][1] + O[0][2]*w1_copia[0][2]\n",
        "    I[1][1] = O[0][0]*w1_copia[1][0] + O[0][1]*w1_copia[1][1] + O[0][2]*w1_copia[1][2]\n",
        "    I[1][2] = 1.0 # constante.\n",
        "    #Calculo do Exp para trash_hold.\n",
        "    O[1][0] = 1.0/(1.0+np.exp(-I[1][0]))\n",
        "    O[1][1] = 1.0/(1.0+np.exp(-I[1][1]))\n",
        "    O[1][2] = I[1][2]\n",
        "    #calculo da ultima entrada\n",
        "    I[2][0] = O[1][0]*w2_copia[0] + O[1][1]*w2_copia[1] + O[1][2]*w2_copia[2]\n",
        "    #Calculo da ultima saida\n",
        "    O[2][0] = 1.0/(1.0+np.exp(-I[2][0]))\n",
        "    erro +=  (saida[i]-O[2][0]) * (saida[i]-O[2][0])\n",
        "    saidas.append(round(O[2][0]))\n",
        "  n+=1\n",
        "  erro *= 0.5\n",
        "  diferenca_erro = erro - erro_inicial\n",
        "  if diferenca_erro < 0.0:\n",
        "    print(diferenca_erro)\n",
        "    atualizar_array(w1, w1_copia)\n",
        "    atualizar_array(w2, w2_copia)\n",
        "    erro_inicial = erro\n",
        "    if erro < tx:\n",
        "      break"
      ],
      "execution_count": 15,
      "outputs": [
        {
          "output_type": "stream",
          "name": "stdout",
          "text": [
            "-0.025445154831925665\n",
            "-0.03723221812143873\n",
            "-0.025917792988760846\n",
            "-0.01044696506165338\n",
            "-0.0102320627894249\n",
            "-0.07313113914382119\n",
            "-0.0156695945349955\n",
            "-0.06209672171290098\n",
            "-0.00697529305508332\n",
            "-0.02531811707849202\n",
            "-0.03023957857656101\n",
            "-0.001129656447637628\n",
            "-0.003917908446600171\n",
            "-0.0012587908049997987\n",
            "-0.0024929829518637314\n",
            "-0.0007302601619380567\n",
            "-0.00015194601437024113\n",
            "-0.0002995071319957243\n",
            "-0.00230241286892488\n",
            "-0.015932015144385192\n",
            "-0.03189118561439663\n",
            "-0.06206898511975878\n",
            "-0.04022064879815257\n",
            "-0.008730576673992713\n",
            "-0.0055143346550179245\n",
            "-0.036615426863977826\n",
            "-0.012513970714583697\n",
            "-0.009538025691443373\n",
            "-0.013481076950302083\n",
            "-0.00024276554554624775\n",
            "-0.0016674704156448839\n",
            "-0.005613939619540281\n",
            "-0.0014411496851693068\n",
            "-0.0005338209579130988\n",
            "-0.0004716651988996354\n",
            "-0.00021628904904642972\n",
            "-0.00017423015721992766\n",
            "-0.00024412951841068124\n",
            "-6.1030314319857824e-05\n",
            "-4.876913273396673e-05\n"
          ]
        }
      ]
    },
    {
      "cell_type": "code",
      "metadata": {
        "colab": {
          "base_uri": "https://localhost:8080/",
          "height": 178
        },
        "id": "68B9hBcOJmo3",
        "outputId": "146280b9-d667-41ba-e8e3-45f1aa8ffc51"
      },
      "source": [
        "\n",
        "print(\"Epoca: \" + str(n))\n",
        "print(\"Erro: \" + str(erro))\n",
        "peso1 = []\n",
        "peso2 = []\n",
        "peso3 = []\n",
        "for i in range(w1.shape[1]):\n",
        "  peso1.append(w1[0][i])\n",
        "  peso2.append(w1[1][i])\n",
        "  peso3.append(w2[i])\n",
        "df_1['W0_inicial'] = peso_comparar_1\n",
        "df_1['W0_final'] = peso1\n",
        "df_1['W1_inicial'] = peso_comparar_2\n",
        "df_1['W1_final'] = peso2\n",
        "df_1['W2_inicial'] = peso_comparar_3\n",
        "df_1['W2_final'] = peso3\n",
        "\n",
        "\n",
        "df_1"
      ],
      "execution_count": 16,
      "outputs": [
        {
          "output_type": "stream",
          "name": "stdout",
          "text": [
            "Epoca: 358.0\n",
            "Erro: 8.868189036422628e-05\n"
          ]
        },
        {
          "output_type": "execute_result",
          "data": {
            "text/html": [
              "<div>\n",
              "<style scoped>\n",
              "    .dataframe tbody tr th:only-of-type {\n",
              "        vertical-align: middle;\n",
              "    }\n",
              "\n",
              "    .dataframe tbody tr th {\n",
              "        vertical-align: top;\n",
              "    }\n",
              "\n",
              "    .dataframe thead th {\n",
              "        text-align: right;\n",
              "    }\n",
              "</style>\n",
              "<table border=\"1\" class=\"dataframe\">\n",
              "  <thead>\n",
              "    <tr style=\"text-align: right;\">\n",
              "      <th></th>\n",
              "      <th>W0_inicial</th>\n",
              "      <th>W0_final</th>\n",
              "      <th>W1_inicial</th>\n",
              "      <th>W1_final</th>\n",
              "      <th>W2_inicial</th>\n",
              "      <th>W2_final</th>\n",
              "    </tr>\n",
              "  </thead>\n",
              "  <tbody>\n",
              "    <tr>\n",
              "      <th>0</th>\n",
              "      <td>7.858767</td>\n",
              "      <td>9.553189</td>\n",
              "      <td>2.052591</td>\n",
              "      <td>-6.781371</td>\n",
              "      <td>19.230568</td>\n",
              "      <td>18.314642</td>\n",
              "    </tr>\n",
              "    <tr>\n",
              "      <th>1</th>\n",
              "      <td>-8.554427</td>\n",
              "      <td>-9.084089</td>\n",
              "      <td>8.778759</td>\n",
              "      <td>11.031809</td>\n",
              "      <td>7.393190</td>\n",
              "      <td>11.518419</td>\n",
              "    </tr>\n",
              "    <tr>\n",
              "      <th>2</th>\n",
              "      <td>-10.925942</td>\n",
              "      <td>-8.820172</td>\n",
              "      <td>-3.075742</td>\n",
              "      <td>-8.109323</td>\n",
              "      <td>-0.762724</td>\n",
              "      <td>-6.582358</td>\n",
              "    </tr>\n",
              "  </tbody>\n",
              "</table>\n",
              "</div>"
            ],
            "text/plain": [
              "   W0_inicial  W0_final  W1_inicial   W1_final  W2_inicial   W2_final\n",
              "0    7.858767  9.553189    2.052591  -6.781371   19.230568  18.314642\n",
              "1   -8.554427 -9.084089    8.778759  11.031809    7.393190  11.518419\n",
              "2  -10.925942 -8.820172   -3.075742  -8.109323   -0.762724  -6.582358"
            ]
          },
          "metadata": {},
          "execution_count": 16
        }
      ]
    },
    {
      "cell_type": "code",
      "metadata": {
        "colab": {
          "base_uri": "https://localhost:8080/",
          "height": 175
        },
        "id": "g0Zkop9jKDxe",
        "outputId": "bb5ea7cf-a467-44b2-f427-74b3dd056cb2"
      },
      "source": [
        "df['E1'] = E1\n",
        "df['E2'] = E2\n",
        "df['Saidas_esperadas'] = saida\n",
        "df['Saidas_geradas'] = saidas\n",
        "df"
      ],
      "execution_count": 17,
      "outputs": [
        {
          "output_type": "execute_result",
          "data": {
            "text/html": [
              "<div>\n",
              "<style scoped>\n",
              "    .dataframe tbody tr th:only-of-type {\n",
              "        vertical-align: middle;\n",
              "    }\n",
              "\n",
              "    .dataframe tbody tr th {\n",
              "        vertical-align: top;\n",
              "    }\n",
              "\n",
              "    .dataframe thead th {\n",
              "        text-align: right;\n",
              "    }\n",
              "</style>\n",
              "<table border=\"1\" class=\"dataframe\">\n",
              "  <thead>\n",
              "    <tr style=\"text-align: right;\">\n",
              "      <th></th>\n",
              "      <th>E1</th>\n",
              "      <th>E2</th>\n",
              "      <th>Saidas_esperadas</th>\n",
              "      <th>Saidas_geradas</th>\n",
              "    </tr>\n",
              "  </thead>\n",
              "  <tbody>\n",
              "    <tr>\n",
              "      <th>0</th>\n",
              "      <td>0</td>\n",
              "      <td>0</td>\n",
              "      <td>0.0</td>\n",
              "      <td>0</td>\n",
              "    </tr>\n",
              "    <tr>\n",
              "      <th>1</th>\n",
              "      <td>0</td>\n",
              "      <td>1</td>\n",
              "      <td>1.0</td>\n",
              "      <td>1</td>\n",
              "    </tr>\n",
              "    <tr>\n",
              "      <th>2</th>\n",
              "      <td>1</td>\n",
              "      <td>0</td>\n",
              "      <td>1.0</td>\n",
              "      <td>1</td>\n",
              "    </tr>\n",
              "    <tr>\n",
              "      <th>3</th>\n",
              "      <td>1</td>\n",
              "      <td>1</td>\n",
              "      <td>0.0</td>\n",
              "      <td>0</td>\n",
              "    </tr>\n",
              "  </tbody>\n",
              "</table>\n",
              "</div>"
            ],
            "text/plain": [
              "   E1  E2  Saidas_esperadas  Saidas_geradas\n",
              "0   0   0               0.0               0\n",
              "1   0   1               1.0               1\n",
              "2   1   0               1.0               1\n",
              "3   1   1               0.0               0"
            ]
          },
          "metadata": {},
          "execution_count": 17
        }
      ]
    },
    {
      "cell_type": "code",
      "metadata": {
        "id": "XMqqA3gpdcHx",
        "colab": {
          "base_uri": "https://localhost:8080/"
        },
        "outputId": "9e10548b-44ce-46d1-9c3a-707dfb7d2a2e"
      },
      "source": [
        "print(saidas)"
      ],
      "execution_count": 18,
      "outputs": [
        {
          "output_type": "stream",
          "name": "stdout",
          "text": [
            "[0, 1, 1, 0]\n"
          ]
        }
      ]
    }
  ]
}