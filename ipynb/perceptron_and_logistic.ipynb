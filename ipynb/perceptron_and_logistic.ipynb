{
  "nbformat": 4,
  "nbformat_minor": 0,
  "metadata": {
    "colab": {
      "name": "perceptron_and_logistic.ipynb",
      "provenance": [],
      "collapsed_sections": []
    },
    "kernelspec": {
      "name": "python3",
      "display_name": "Python 3"
    },
    "language_info": {
      "name": "python"
    }
  },
  "cells": [
    {
      "cell_type": "code",
      "metadata": {
        "id": "kTMQdk-z4_Ae"
      },
      "source": [
        "import numpy as np\n",
        "i1 = [0,0,1,1]\n",
        "i2 = [0,1,0,1]\n",
        "weight_1 = 3\n",
        "weight_2 = 5\n",
        "t = 6\n",
        "def trash_hold(sum):\n",
        "  return 1/(1+np.exp(-10*(sum-t)))\n",
        "sum = []\n",
        "O1 = [] "
      ],
      "execution_count": null,
      "outputs": []
    },
    {
      "cell_type": "code",
      "metadata": {
        "colab": {
          "base_uri": "https://localhost:8080/"
        },
        "id": "zwjGM0ohRsf4",
        "outputId": "626d3ba6-df7a-47e7-9d88-01e960e99bf9"
      },
      "source": [
        "for x in range(len(i1)):\n",
        "  sum.append(i1[x]*weight_1 + i2[x]*weight_2)\n",
        "  if sum[x] > trash_hold(sum[x]):\n",
        "    O1.append(1)\n",
        "  else:\n",
        "    O1.append(0)\n",
        "print(sum)\n",
        "print(O1)"
      ],
      "execution_count": null,
      "outputs": [
        {
          "output_type": "stream",
          "text": [
            "[0, 5, 3, 8]\n",
            "[0, 1, 1, 1]\n"
          ],
          "name": "stdout"
        }
      ]
    },
    {
      "cell_type": "code",
      "metadata": {
        "colab": {
          "base_uri": "https://localhost:8080/",
          "height": 175
        },
        "id": "uYTFzugnRtGf",
        "outputId": "972b66f8-4aa3-4ac2-fe16-5774df1ac313"
      },
      "source": [
        "import pandas as pd\n",
        "df = pd.DataFrame(columns = ['i1', 'i2', 'Sum', 'O1'])\n",
        "df['i1'] = i1\n",
        "df['i2'] = i2\n",
        "df['Sum'] = sum\n",
        "df['O1'] = O1\n",
        "df"
      ],
      "execution_count": null,
      "outputs": [
        {
          "output_type": "execute_result",
          "data": {
            "text/html": [
              "<div>\n",
              "<style scoped>\n",
              "    .dataframe tbody tr th:only-of-type {\n",
              "        vertical-align: middle;\n",
              "    }\n",
              "\n",
              "    .dataframe tbody tr th {\n",
              "        vertical-align: top;\n",
              "    }\n",
              "\n",
              "    .dataframe thead th {\n",
              "        text-align: right;\n",
              "    }\n",
              "</style>\n",
              "<table border=\"1\" class=\"dataframe\">\n",
              "  <thead>\n",
              "    <tr style=\"text-align: right;\">\n",
              "      <th></th>\n",
              "      <th>i1</th>\n",
              "      <th>i2</th>\n",
              "      <th>Sum</th>\n",
              "      <th>O1</th>\n",
              "    </tr>\n",
              "  </thead>\n",
              "  <tbody>\n",
              "    <tr>\n",
              "      <th>0</th>\n",
              "      <td>0</td>\n",
              "      <td>0</td>\n",
              "      <td>0</td>\n",
              "      <td>0</td>\n",
              "    </tr>\n",
              "    <tr>\n",
              "      <th>1</th>\n",
              "      <td>0</td>\n",
              "      <td>1</td>\n",
              "      <td>5</td>\n",
              "      <td>1</td>\n",
              "    </tr>\n",
              "    <tr>\n",
              "      <th>2</th>\n",
              "      <td>1</td>\n",
              "      <td>0</td>\n",
              "      <td>3</td>\n",
              "      <td>1</td>\n",
              "    </tr>\n",
              "    <tr>\n",
              "      <th>3</th>\n",
              "      <td>1</td>\n",
              "      <td>1</td>\n",
              "      <td>8</td>\n",
              "      <td>1</td>\n",
              "    </tr>\n",
              "  </tbody>\n",
              "</table>\n",
              "</div>"
            ],
            "text/plain": [
              "   i1  i2  Sum  O1\n",
              "0   0   0    0   0\n",
              "1   0   1    5   1\n",
              "2   1   0    3   1\n",
              "3   1   1    8   1"
            ]
          },
          "metadata": {},
          "execution_count": 3
        }
      ]
    },
    {
      "cell_type": "code",
      "metadata": {
        "colab": {
          "base_uri": "https://localhost:8080/",
          "height": 301
        },
        "id": "38yEaaPOTPvM",
        "outputId": "e2593076-3a0b-49d2-8712-589d6aa13adf"
      },
      "source": [
        "import matplotlib.pyplot as plt\n",
        "import seaborn as sns\n",
        "sum.sort()\n",
        "sns.set()\n",
        "plt.scatter(sum,O1)\n",
        "plt.plot(sum,O1,c = 'orange', lw = 3)\n",
        "plt.xlabel('Sum')\n",
        "plt.ylabel('f(sum)')\n",
        "plt.title('Percpetron AND')\n",
        "plt.show()"
      ],
      "execution_count": null,
      "outputs": [
        {
          "output_type": "display_data",
          "data": {
            "image/png": "[encoded data removed]",
            "text/plain": [
              "<Figure size 432x288 with 1 Axes>"
            ]
          },
          "metadata": {}
        }
      ]
    }
  ]
}